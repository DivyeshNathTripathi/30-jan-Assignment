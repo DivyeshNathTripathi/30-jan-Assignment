{
  "nbformat": 4,
  "nbformat_minor": 0,
  "metadata": {
    "colab": {
      "provenance": []
    },
    "kernelspec": {
      "name": "python3",
      "display_name": "Python 3"
    },
    "language_info": {
      "name": "python"
    }
  },
  "cells": [
    {
      "cell_type": "markdown",
      "source": [
        "**Question 1**: Write a program to accept percentage from the user and display the grade according to the following criteria:\n",
        "\n",
        "**Answer**"
      ],
      "metadata": {
        "id": "egx4qoNjx0g3"
      }
    },
    {
      "cell_type": "code",
      "execution_count": 1,
      "metadata": {
        "colab": {
          "base_uri": "https://localhost:8080/"
        },
        "id": "Uwxd9DHYxxzT",
        "outputId": "cf2beda0-910f-43a3-fb45-3f6cd0b10382"
      },
      "outputs": [
        {
          "output_type": "stream",
          "name": "stdout",
          "text": [
            "Enter your percentage: 45\n",
            "Your grade is: D\n"
          ]
        }
      ],
      "source": [
        "# Program to display grade based on percentage\n",
        "percentage = float(input(\"Enter your percentage: \"))\n",
        "\n",
        "if percentage > 90:\n",
        "    grade = 'A'\n",
        "elif 80 < percentage <= 90:\n",
        "    grade = 'B'\n",
        "elif 60 <= percentage <= 80:\n",
        "    grade = 'C'\n",
        "else:\n",
        "    grade = 'D'\n",
        "\n",
        "print(f\"Your grade is: {grade}\")\n"
      ]
    },
    {
      "cell_type": "markdown",
      "source": [
        "Question 2: Write a program to accept the cost price of a bike and display the road tax to be paid according to the following criteria:\n",
        "\n",
        "**Answer :**"
      ],
      "metadata": {
        "id": "SgLoE5D0yPzo"
      }
    },
    {
      "cell_type": "code",
      "source": [
        "# Program to calculate road tax\n",
        "cost_price = float(input(\"Enter the cost price of the bike: \"))\n",
        "\n",
        "if cost_price > 100000:\n",
        "    tax = 0.15 * cost_price\n",
        "elif 50000 < cost_price <= 100000:\n",
        "    tax = 0.10 * cost_price\n",
        "else:\n",
        "    tax = 0.05 * cost_price\n",
        "\n",
        "print(f\"The road tax to be paid is: Rs. {tax}\")\n"
      ],
      "metadata": {
        "colab": {
          "base_uri": "https://localhost:8080/"
        },
        "id": "R08jhf7GyZsD",
        "outputId": "307be200-66d7-463e-b7cf-d94b4907fa6f"
      },
      "execution_count": 2,
      "outputs": [
        {
          "output_type": "stream",
          "name": "stdout",
          "text": [
            "Enter the cost price of the bike: 50000\n",
            "The road tax to be paid is: Rs. 2500.0\n"
          ]
        }
      ]
    },
    {
      "cell_type": "markdown",
      "source": [
        "Question 3: Accept any city from the user and display monuments of that city.\n",
        "\n",
        "**Answer**:"
      ],
      "metadata": {
        "id": "-26iXL4JyhuS"
      }
    },
    {
      "cell_type": "code",
      "source": [
        "# Program to display monuments based on city\n",
        "city = input(\"Enter the name of the city: \").strip().capitalize()\n",
        "\n",
        "monuments = {\n",
        "    \"Delhi\": \"Red Fort\",\n",
        "    \"Agra\": \"Taj Mahal\",\n",
        "    \"Jaipur\": \"Jal Mahal\"\n",
        "}\n",
        "\n",
        "if city in monuments:\n",
        "    print(f\"The monument in {city} is {monuments[city]}\")\n",
        "else:\n",
        "    print(\"City not found in the database.\")\n"
      ],
      "metadata": {
        "colab": {
          "base_uri": "https://localhost:8080/"
        },
        "id": "7JOZcCOsymfc",
        "outputId": "dba2eb43-7b74-4dd2-8dc5-01587b5c8a90"
      },
      "execution_count": 3,
      "outputs": [
        {
          "output_type": "stream",
          "name": "stdout",
          "text": [
            "Enter the name of the city: agra\n",
            "The monument in Agra is Taj Mahal\n"
          ]
        }
      ]
    },
    {
      "cell_type": "markdown",
      "source": [
        "Question 4: Check how many times a given number can be divided by 3 before it is less than or equal to 10.\n",
        "\n",
        "**Answer**:"
      ],
      "metadata": {
        "id": "HseBx6aryu9v"
      }
    },
    {
      "cell_type": "code",
      "source": [
        "# Program to count divisions by 3\n",
        "number = int(input(\"Enter a number: \"))\n",
        "count = 0\n",
        "\n",
        "while number > 10:\n",
        "    number /= 3\n",
        "    count += 1\n",
        "\n",
        "print(f\"The number can be divided by 3, {count} times before it is <= 10.\")\n"
      ],
      "metadata": {
        "colab": {
          "base_uri": "https://localhost:8080/"
        },
        "id": "1hK7hljDyv0E",
        "outputId": "11ef84f2-3a37-469b-85aa-287598cc2b43"
      },
      "execution_count": 4,
      "outputs": [
        {
          "output_type": "stream",
          "name": "stdout",
          "text": [
            "Enter a number: 9\n",
            "The number can be divided by 3, 0 times before it is <= 10.\n"
          ]
        }
      ]
    },
    {
      "cell_type": "markdown",
      "source": [
        "Question 5: Why and When to Use While Loop in Python (give a detailed description with examples)\n",
        "\n",
        "**Answer**:\n",
        "\n",
        "**Why Use a While Loop:**\n",
        "A while loop is used when the number of iterations is not known beforehand, and the loop continues until a specific condition is met. It is useful for situations where an action needs to be repeated based on a condition rather than a fixed number of times.\n",
        "\n",
        "**When to Use a While Loop:**\n",
        "\n",
        "To repeatedly execute a block of code as long as the condition is true.\n",
        "When the loop termination depends on a condition that changes dynamically during runtime.\n",
        "\n",
        "**Example:**"
      ],
      "metadata": {
        "id": "GuCtnO1Gy6Yp"
      }
    },
    {
      "cell_type": "code",
      "source": [
        "# Example of a while loop\n",
        "number = 5\n",
        "while number > 0:\n",
        "    print(number)\n",
        "    number -= 1\n"
      ],
      "metadata": {
        "colab": {
          "base_uri": "https://localhost:8080/"
        },
        "id": "iCBHOqk1zGV2",
        "outputId": "ebfb1414-2571-498a-e47f-a89d6f62608d"
      },
      "execution_count": 5,
      "outputs": [
        {
          "output_type": "stream",
          "name": "stdout",
          "text": [
            "5\n",
            "4\n",
            "3\n",
            "2\n",
            "1\n"
          ]
        }
      ]
    },
    {
      "cell_type": "markdown",
      "source": [
        "Question 6: Use a nested while loop to print 3 different patterns.\n",
        "\n",
        "**Answer**:"
      ],
      "metadata": {
        "id": "5oAJtwm5zOYw"
      }
    },
    {
      "cell_type": "code",
      "source": [
        "# Nested while loop to print patterns\n",
        "# Pattern 1\n",
        "i = 1\n",
        "print(\"Pattern 1:\")\n",
        "while i <= 5:\n",
        "    print(\"*\" * i)\n",
        "    i += 1\n",
        "\n",
        "# Pattern 2\n",
        "print(\"\\nPattern 2:\")\n",
        "i = 5\n",
        "while i > 0:\n",
        "    j = 0\n",
        "    while j < i:\n",
        "        print(\"*\", end=\"\")\n",
        "        j += 1\n",
        "    print()\n",
        "    i -= 1\n",
        "\n",
        "# Pattern 3\n",
        "print(\"\\nPattern 3:\")\n",
        "i = 1\n",
        "while i <= 5:\n",
        "    j = 5\n",
        "    while j > i:\n",
        "        print(\" \", end=\"\")\n",
        "        j -= 1\n",
        "    print(\"*\" * i)\n",
        "    i += 1\n"
      ],
      "metadata": {
        "colab": {
          "base_uri": "https://localhost:8080/"
        },
        "id": "94i6S1cRzU_O",
        "outputId": "bf26a164-a4f2-47e2-def3-7d2f6db6c834"
      },
      "execution_count": 6,
      "outputs": [
        {
          "output_type": "stream",
          "name": "stdout",
          "text": [
            "Pattern 1:\n",
            "*\n",
            "**\n",
            "***\n",
            "****\n",
            "*****\n",
            "\n",
            "Pattern 2:\n",
            "*****\n",
            "****\n",
            "***\n",
            "**\n",
            "*\n",
            "\n",
            "Pattern 3:\n",
            "    *\n",
            "   **\n",
            "  ***\n",
            " ****\n",
            "*****\n"
          ]
        }
      ]
    },
    {
      "cell_type": "markdown",
      "source": [
        "Question 7: Reverse a while loop to display numbers from 10 to 1.\n",
        "\n",
        "**Answer:**"
      ],
      "metadata": {
        "id": "OQNmh_hsza20"
      }
    },
    {
      "cell_type": "code",
      "source": [
        "# Program to display numbers from 10 to 1 using a while loop\n",
        "number = 10\n",
        "while number >= 1:\n",
        "    print(number, end=\" \")\n",
        "    number -= 1\n",
        "print()\n"
      ],
      "metadata": {
        "colab": {
          "base_uri": "https://localhost:8080/"
        },
        "id": "nE3tND0ozg9D",
        "outputId": "395f9818-26f6-42ca-f6c2-05d48e60dfad"
      },
      "execution_count": 7,
      "outputs": [
        {
          "output_type": "stream",
          "name": "stdout",
          "text": [
            "10 9 8 7 6 5 4 3 2 1 \n"
          ]
        }
      ]
    },
    {
      "cell_type": "markdown",
      "source": [
        "Question 8: Reverse a while loop to display numbers from 10 to 1.\n",
        "\n",
        "**Answer:**"
      ],
      "metadata": {
        "id": "5053fCjYzjvV"
      }
    },
    {
      "cell_type": "code",
      "source": [
        "# Program to display numbers from 10 to 1 using a while loop\n",
        "number = 10\n",
        "while number >= 1:\n",
        "    print(number, end=\" \")\n",
        "    number -= 1\n",
        "print()\n"
      ],
      "metadata": {
        "colab": {
          "base_uri": "https://localhost:8080/"
        },
        "id": "h3qB8ql4zrIv",
        "outputId": "80d12e76-df4b-4f99-d2d5-f60332199909"
      },
      "execution_count": 8,
      "outputs": [
        {
          "output_type": "stream",
          "name": "stdout",
          "text": [
            "10 9 8 7 6 5 4 3 2 1 \n"
          ]
        }
      ]
    }
  ]
}